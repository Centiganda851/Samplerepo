{
  "cells": [
    {
      "cell_type": "code",
      "source": [
        "!git config --global user.email \"shanetendoj@gmail.com\"\n",
        "!git config --global user.name \"Shane\""
      ],
      "metadata": {
        "id": "3iHTKnlko4ME"
      },
      "id": "3iHTKnlko4ME",
      "execution_count": 19,
      "outputs": []
    },
    {
      "cell_type": "code",
      "source": [
        "!git clone https://github.com/Centiganda851/samplerepo.git\n",
        "%cd samplerepo\n",
        "!git checkout -b trial"
      ],
      "metadata": {
        "colab": {
          "base_uri": "https://localhost:8080/"
        },
        "id": "VKLkTE_em-TV",
        "outputId": "45d4be5d-3a82-4c6a-f634-1960858c04e1"
      },
      "id": "VKLkTE_em-TV",
      "execution_count": 20,
      "outputs": [
        {
          "output_type": "stream",
          "name": "stdout",
          "text": [
            "Cloning into 'samplerepo'...\n",
            "remote: Enumerating objects: 6, done.\u001b[K\n",
            "remote: Counting objects: 100% (6/6), done.\u001b[K\n",
            "remote: Compressing objects: 100% (2/2), done.\u001b[K\n",
            "remote: Total 6 (delta 0), reused 0 (delta 0), pack-reused 0 (from 0)\u001b[K\n",
            "Receiving objects: 100% (6/6), done.\n",
            "/content/samplerepo/samplerepo\n",
            "Switched to a new branch 'trial'\n"
          ]
        }
      ]
    },
    {
      "cell_type": "code",
      "source": [
        "pip install QuantumRingsLib"
      ],
      "metadata": {
        "colab": {
          "base_uri": "https://localhost:8080/"
        },
        "collapsed": true,
        "id": "3sIVIViKidp9",
        "outputId": "7db20cc4-958d-4d95-b7f9-39cac5700ca0"
      },
      "id": "3sIVIViKidp9",
      "execution_count": 21,
      "outputs": [
        {
          "output_type": "stream",
          "name": "stdout",
          "text": [
            "Requirement already satisfied: QuantumRingsLib in /usr/local/lib/python3.11/dist-packages (0.9.11)\n"
          ]
        }
      ]
    },
    {
      "cell_type": "code",
      "execution_count": 22,
      "id": "ca6aa642-f2ed-433f-b375-6dbde48ca421",
      "metadata": {
        "colab": {
          "base_uri": "https://localhost:8080/"
        },
        "collapsed": true,
        "id": "ca6aa642-f2ed-433f-b375-6dbde48ca421",
        "outputId": "50735d71-f321-4e95-97bd-f054eb628182"
      },
      "outputs": [
        {
          "output_type": "execute_result",
          "data": {
            "text/plain": [
              "{'name': 'shane.tendo@my.uu.edu',\n",
              " 'token': 'rings-200.B7zx23W0l0wKojTdUTaDFFgkRHwrUlsO',\n",
              " 'max_qubits': '200'}"
            ]
          },
          "metadata": {},
          "execution_count": 22
        }
      ],
      "source": [
        "import QuantumRingsLib\n",
        "from QuantumRingsLib import QuantumRegister, AncillaRegister, ClassicalRegister, QuantumCircuit\n",
        "from QuantumRingsLib import QuantumRingsProvider\n",
        "from QuantumRingsLib import job_monitor\n",
        "from QuantumRingsLib import JobStatus\n",
        "from matplotlib import pyplot as plt\n",
        "import numpy as np\n",
        "\n",
        "from google.colab import userdata\n",
        "userdata.get('provider')\n",
        "backend = provider.get_backend(\"scarlet_quantum_rings\")\n",
        "shots = 1024\n",
        "\n",
        "provider.active_account()"
      ]
    },
    {
      "cell_type": "code",
      "execution_count": 23,
      "id": "ea3b1fcb-23f5-4cc4-82b2-00f3af241498",
      "metadata": {
        "id": "ea3b1fcb-23f5-4cc4-82b2-00f3af241498"
      },
      "outputs": [],
      "source": [
        "def iqft_cct(qc, b, n):\n",
        "    \"\"\"\n",
        "    The inverse QFT circuit\n",
        "\n",
        "    Args:\n",
        "\n",
        "        qc (QuantumCircuit):\n",
        "                The quantum circuit\n",
        "\n",
        "        b (QuantumRegister):\n",
        "                The target register\n",
        "\n",
        "        n (int):\n",
        "                The number of qubits in the registers to use\n",
        "\n",
        "    Returns:\n",
        "        None\n",
        "\n",
        "    \"\"\"\n",
        "\n",
        "    for i in range (n):\n",
        "        for j in range (1, i+1):\n",
        "            # for inverse transform, we have to use negative angles\n",
        "            qc.cu1(  -np.pi / 2** ( i -j + 1 ), b[j - 1], b[i])\n",
        "        # the H transform should be done after the rotations\n",
        "        qc.h(b[i])\n",
        "    qc.barrier()\n",
        "    return\n",
        "\n",
        "def plot_histogram (counts, title=\"\"):\n",
        "    \"\"\"\n",
        "    Plots the histogram of the counts\n",
        "\n",
        "    Args:\n",
        "\n",
        "        counts (dict):\n",
        "            The dictionary containing the counts of states\n",
        "\n",
        "        titles (str):\n",
        "            A title for the graph.\n",
        "\n",
        "    Returns:\n",
        "        None\n",
        "\n",
        "    \"\"\"\n",
        "    fig, ax = plt.subplots(figsize =(10, 7))\n",
        "    plt.xlabel(\"States\")\n",
        "    plt.ylabel(\"Counts\")\n",
        "    mylist = [key for key, val in counts.items() for _ in range(val)]\n",
        "\n",
        "    unique, inverse = np.unique(mylist, return_inverse=True)\n",
        "    bin_counts = np.bincount(inverse)\n",
        "\n",
        "    plt.bar(unique, bin_counts)\n",
        "\n",
        "    maxFreq = max(counts.values())\n",
        "    plt.ylim(ymax=np.ceil(maxFreq / 10) * 10 if maxFreq % 10 else maxFreq + 10)\n",
        "    # Show plot\n",
        "    plt.title(title)\n",
        "    plt.show()\n",
        "    return"
      ]
    },
    {
      "cell_type": "code",
      "execution_count": null,
      "id": "5e45c2a8-c2f1-47cd-8d0a-010e9760f080",
      "metadata": {
        "id": "5e45c2a8-c2f1-47cd-8d0a-010e9760f080"
      },
      "outputs": [],
      "source": [
        "# Shor’s algorithm to factorize 15 using 7^x mod 15.\n",
        "numberofqubits = 7\n",
        "shots = 1024\n",
        "\n",
        "\n",
        "q = QuantumRegister(numberofqubits , 'q')\n",
        "c = ClassicalRegister(4 , 'c')\n",
        "qc = QuantumCircuit(q, c)\n",
        "\n",
        "# Initialize source and target registers\n",
        "qc.h(0)\n",
        "qc.h(1)\n",
        "qc.h(2)\n",
        "qc.x(6)\n",
        "qc.barrier()\n",
        "\n",
        "# Modular exponentiation 7^x mod 15\n",
        "qc.cx(q[2],q[4] )\n",
        "qc.cx(q[2],q[5] )\n",
        "qc.cx(q[6],q[4] )\n",
        "qc.ccx(q[1],q[5],q[3] )\n",
        "qc.cx(q[3],q[5] )\n",
        "qc.ccx(q[1],q[4],q[6] )\n",
        "qc.cx(q[6],q[4] ) #\n",
        "qc.barrier()\n",
        "\n",
        "# IQFT. Refer to implementation from earlier examples\n",
        "iqft_cct (qc, q, 3)\n",
        "\n",
        "# Measure\n",
        "qc.measure(q[0], c[0])\n",
        "qc.measure(q[1], c[1])\n",
        "qc.measure(q[2], c[2])\n",
        "\n",
        "# Execute the circuit\n",
        "job = backend.run(qc, shots=shots)\n",
        "job_monitor(job)\n",
        "result = job.result()\n",
        "counts = result.get_counts()\n",
        "\n",
        "#clean up\n",
        "del q, c, qc\n",
        "del result\n",
        "del job\n",
        "\n",
        "#visualize\n",
        "plot_histogram(counts)"
      ]
    },
    {
      "cell_type": "code",
      "execution_count": null,
      "id": "e3b26926-85eb-4568-9817-bc6691174c5e",
      "metadata": {
        "id": "e3b26926-85eb-4568-9817-bc6691174c5e"
      },
      "outputs": [],
      "source": [
        "!git add .\n",
        "!git commit -m \"Added new feature\"\n",
        "!git push -u origin trial"
      ]
    }
  ],
  "metadata": {
    "kernelspec": {
      "display_name": "Python 3",
      "name": "python3"
    },
    "language_info": {
      "name": "python"
    },
    "colab": {
      "provenance": [],
      "toc_visible": true
    }
  },
  "nbformat": 4,
  "nbformat_minor": 5
}